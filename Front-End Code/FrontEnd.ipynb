{
 "cells": [
  {
   "cell_type": "code",
   "execution_count": null,
   "id": "5168f01f",
   "metadata": {},
   "outputs": [
    {
     "name": "stdout",
     "output_type": "stream",
     "text": [
      "Received message: Heart Rate: 88.24, Temperature: 26.0, Stress: NO STRESS\n",
      " * Serving Flask app '__main__'\n",
      " * Debug mode: on\n"
     ]
    },
    {
     "name": "stderr",
     "output_type": "stream",
     "text": [
      "WARNING: This is a development server. Do not use it in a production deployment. Use a production WSGI server instead.\n",
      " * Running on http://127.0.0.1:3333\n",
      "Press CTRL+C to quit\n"
     ]
    },
    {
     "name": "stdout",
     "output_type": "stream",
     "text": [
      "Connected to MQTT broker with result code Success\n",
      "Received message: Heart Rate: 88.24, Temperature: 26.0, Stress: NO STRESS\n",
      "Received message: Heart Rate: 88.24, Temperature: 26.0, Stress: NO STRESS\n"
     ]
    },
    {
     "name": "stderr",
     "output_type": "stream",
     "text": [
      "127.0.0.1 - - [03/May/2024 13:29:29] \"GET / HTTP/1.1\" 200 -\n"
     ]
    },
    {
     "name": "stdout",
     "output_type": "stream",
     "text": [
      "Received message: Heart Rate: 88.24, Temperature: 26.0, Stress: NO STRESS\n",
      "Received message: Heart Rate: 88.24, Temperature: 26.0, Stress: NO STRESS\n"
     ]
    }
   ],
   "source": [
    "from flask import Flask, render_template\n",
    "import paho.mqtt.client as mqtt\n",
    "import uuid\n",
    "\n",
    "client_idd = \"mqttx_\" + str(uuid.uuid4())\n",
    "app = Flask(__name__)\n",
    "\n",
    "# MQTT Broker details\n",
    "broker_address = \"broker.emqx.io\"\n",
    "mqtt_port = 1883\n",
    "mqtt_topic = \"StressDet092111161173\"  # Topic to subscribe to\n",
    "\n",
    "# Initialize list to store readings\n",
    "readings = []\n",
    "\n",
    "# Create a MQTT client instance\n",
    "client = mqtt.Client(client_id=client_idd, clean_session=True, callback_api_version=mqtt.CallbackAPIVersion.VERSION2)\n",
    "\n",
    "# Callbacks for successful connection and disconnection\n",
    "def on_mqtt_connect(client, userdata, flags, rc, ir):\n",
    "    print(\"Connected to MQTT broker with result code \" + str(rc))\n",
    "    # Subscribe to the topic\n",
    "    client.subscribe(mqtt_topic)\n",
    "\n",
    "def on_message(client, userdata, msg):\n",
    "    print(\"Received message: \" + msg.payload.decode())\n",
    "    # Update readings list with received data\n",
    "    update_readings(msg.payload.decode())\n",
    "\n",
    "# Assign the callback functions\n",
    "client.on_connect = on_mqtt_connect\n",
    "client.on_message = on_message\n",
    "\n",
    "# Connect to the MQTT broker\n",
    "client.connect(broker_address, mqtt_port, 60)\n",
    "\n",
    "# Function to update readings list with received data\n",
    "def update_readings(data):\n",
    "    global readings\n",
    "    data_parts = data.split(\", \")\n",
    "    parsed_data = {}\n",
    "    for part in data_parts:\n",
    "        key, value = part.split(\": \")\n",
    "        parsed_data[key.strip()] = value.strip()\n",
    "    readings.append(parsed_data)\n",
    "\n",
    "# Flask route to render the HTML template\n",
    "@app.route('/')\n",
    "def index():\n",
    "    return render_template('index.html', readings=readings)\n",
    "\n",
    "# Run the Flask application\n",
    "if __name__ == '__main__':\n",
    "    client.loop_start()  # Start the MQTT client loop\n",
    "    app.run(debug=True, port=3333, use_reloader=False)\n"
   ]
  },
  {
   "cell_type": "code",
   "execution_count": null,
   "id": "d364137b",
   "metadata": {},
   "outputs": [],
   "source": []
  }
 ],
 "metadata": {
  "kernelspec": {
   "display_name": "Python 3 (ipykernel)",
   "language": "python",
   "name": "python3"
  },
  "language_info": {
   "codemirror_mode": {
    "name": "ipython",
    "version": 3
   },
   "file_extension": ".py",
   "mimetype": "text/x-python",
   "name": "python",
   "nbconvert_exporter": "python",
   "pygments_lexer": "ipython3",
   "version": "3.10.9"
  }
 },
 "nbformat": 4,
 "nbformat_minor": 5
}
